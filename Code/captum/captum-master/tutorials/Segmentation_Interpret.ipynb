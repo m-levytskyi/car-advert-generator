version https://git-lfs.github.com/spec/v1
oid sha256:b86f1130c60b59bf66859e84f9b65022dc3bc05937a3d1d3e299599a9ab124ef
size 706438
