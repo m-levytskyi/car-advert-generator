version https://git-lfs.github.com/spec/v1
oid sha256:d715550c2a47ead4d06eea3ed0e23cc73195fc87a0adfde5a0d7ce80a20f51bd
size 121604
