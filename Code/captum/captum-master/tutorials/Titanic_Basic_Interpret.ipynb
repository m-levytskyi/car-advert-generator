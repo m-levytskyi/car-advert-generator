version https://git-lfs.github.com/spec/v1
oid sha256:7fa6c56ebe7b429c57fded3a280d519da7426a55df5725c62832e5cb8488f22b
size 131868
