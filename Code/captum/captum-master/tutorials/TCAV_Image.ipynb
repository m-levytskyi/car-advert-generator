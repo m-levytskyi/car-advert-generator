version https://git-lfs.github.com/spec/v1
oid sha256:24c2ff6a38a1e05308682349f5538b42fd21cc19d4b5fbfeb4f8b0161af2329c
size 3097909
