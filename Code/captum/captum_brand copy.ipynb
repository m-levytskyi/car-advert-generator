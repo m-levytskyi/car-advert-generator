version https://git-lfs.github.com/spec/v1
oid sha256:f14726dc7cd4c3571b1f1645a5cda7723ef06d523526dc7258b27b8a90bc085e
size 11722
