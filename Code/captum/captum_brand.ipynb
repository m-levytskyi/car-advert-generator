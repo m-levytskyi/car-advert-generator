version https://git-lfs.github.com/spec/v1
oid sha256:71dfe8327b4b95218ec78bf9bc0e5b2462a04e735a0c08b9863adf16d6234fa7
size 12998
