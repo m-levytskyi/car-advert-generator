version https://git-lfs.github.com/spec/v1
oid sha256:1e2953231d72c4ea81d136d3261f4f2a19e74281cb42ecbc6e9d651ff43752ba
size 16955
