version https://git-lfs.github.com/spec/v1
oid sha256:78d23775d04605d4a268ea95fc4bb703d6eb3532207cc788c614f009316eab6a
size 287696
