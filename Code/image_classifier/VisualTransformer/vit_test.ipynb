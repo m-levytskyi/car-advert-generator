version https://git-lfs.github.com/spec/v1
oid sha256:32e0edbc508df2dca80c02675e13b438aea66fbd179961fd653feb895d0d701c
size 13486
