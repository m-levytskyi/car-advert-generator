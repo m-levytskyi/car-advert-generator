version https://git-lfs.github.com/spec/v1
oid sha256:20f47a032f0f21c12c7f032ec8b35b5e063691d58a2fed5f215864ad12c2c511
size 1641
