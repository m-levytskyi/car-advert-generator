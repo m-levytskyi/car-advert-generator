version https://git-lfs.github.com/spec/v1
oid sha256:ec517caa48d5327a7b41b7d0a0eb2d8c522e5f6c28da4f08ac86f9231e1ea5b8
size 7543
