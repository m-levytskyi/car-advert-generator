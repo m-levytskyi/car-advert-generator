version https://git-lfs.github.com/spec/v1
oid sha256:384b8ba6be55fc372924ac5b380db39b94ff31ec9fbf211ebe4e5d85dab6d8f9
size 9507
