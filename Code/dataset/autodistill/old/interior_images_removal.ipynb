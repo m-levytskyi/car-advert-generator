version https://git-lfs.github.com/spec/v1
oid sha256:9796e05739eeeb26d3a4d51284efd0c1fd1e180ee1aa20ee97b8278c8a4dc1d3
size 9015
