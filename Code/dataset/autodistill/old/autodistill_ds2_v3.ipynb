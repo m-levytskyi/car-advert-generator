version https://git-lfs.github.com/spec/v1
oid sha256:03d4bd9a36716438d7ee74da7ab03c543f1edf0ccc10678bb525a4f0674ade8a
size 70040
