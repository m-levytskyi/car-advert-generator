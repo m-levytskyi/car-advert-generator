version https://git-lfs.github.com/spec/v1
oid sha256:935f7335bca2daf5f79fa054f9e20ff904202ee2da16cfcebef643e27a0a973b
size 99717
