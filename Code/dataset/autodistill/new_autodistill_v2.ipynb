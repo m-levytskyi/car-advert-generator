version https://git-lfs.github.com/spec/v1
oid sha256:fef5b32a46f7ad1c05ea359a2ec1e69e5437a81b527c1dccf6afe9048951c624
size 5476
