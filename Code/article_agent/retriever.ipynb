version https://git-lfs.github.com/spec/v1
oid sha256:7df2c15185d44dd9d30723769d24ec25cc6b187cd0cb31ed3ec3095de8818c86
size 3426
