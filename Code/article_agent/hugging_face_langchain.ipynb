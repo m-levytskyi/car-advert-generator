version https://git-lfs.github.com/spec/v1
oid sha256:6c12bd02f97dc04471f298762e78e490711847e8818a47000d2d01c6fc624831
size 3162
