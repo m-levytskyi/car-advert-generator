version https://git-lfs.github.com/spec/v1
oid sha256:0666c5347b41190da453bbbbeb3b7150040ab7d7e6339aff265c28e7b48f66c2
size 3290
