version https://git-lfs.github.com/spec/v1
oid sha256:fe27c9d029403b821cd0fd6946cbb5d09a365386c42aa810ca2dba72808e69a6
size 321701
